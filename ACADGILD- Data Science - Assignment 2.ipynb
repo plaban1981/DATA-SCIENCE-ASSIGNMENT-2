{
 "cells": [
  {
   "cell_type": "code",
   "execution_count": 8,
   "metadata": {},
   "outputs": [
    {
     "name": "stdout",
     "output_type": "stream",
     "text": [
      "enter numbers separated by comma1,2,3,4,5,10,20,30\n",
      "list_num : ['1', '2', '3', '4', '5', '10', '20', '30']\n",
      "list_int_num : [1, 2, 3, 4, 5, 10, 20, 30]\n"
     ]
    }
   ],
   "source": [
    "#assignment 1 Write a program which accepts a sequence of comma separated numbers from console and generate list\n",
    "\n",
    "\n",
    "num = input('enter numbers separated by comma')\n",
    "list_num = num.split(\",\")\n",
    "list_int_num = [int(x) for x in list_num]\n",
    "print(\"list_num :\",list_num)\n",
    "print(\"list_int_num :\",list_int_num)"
   ]
  },
  {
   "cell_type": "code",
   "execution_count": 24,
   "metadata": {},
   "outputs": [
    {
     "name": "stdout",
     "output_type": "stream",
     "text": [
      "*\n",
      "**\n",
      "***\n",
      "****\n",
      "*****\n",
      "****\n",
      "***\n",
      "**\n",
      "*\n"
     ]
    }
   ],
   "source": [
    "#assignment 2\n",
    "j = 0\n",
    "for i in range(1,10):\n",
    "    if i <= 5:\n",
    "        print('*' *i)\n",
    "    else:\n",
    "        \n",
    "        j += 2\n",
    "        print('*' *(i - j))\n"
   ]
  },
  {
   "cell_type": "code",
   "execution_count": 25,
   "metadata": {},
   "outputs": [
    {
     "name": "stdout",
     "output_type": "stream",
     "text": [
      "enter a wordAcadGild\n",
      "reverse of the word AcadGild is dliGdacA\n"
     ]
    }
   ],
   "source": [
    "#assignment 3\n",
    "input_word = input(\"enter a word\")\n",
    "print(\"reverse of the word {} is {}\".format(input_word,input_word[::-1]))"
   ]
  },
  {
   "cell_type": "code",
   "execution_count": 32,
   "metadata": {},
   "outputs": [
    {
     "name": "stdout",
     "output_type": "stream",
     "text": [
      "WE,THE PEOPLE OF INDIA,\n",
      "\thaving solemnly to constitute India into a SOVERRIGN !\n",
      " \t\tSOCIALIST,SECULAR,DEMOCRATIC REPUBLIC\n",
      "\t\t and to secure to all its citizens \n"
     ]
    }
   ],
   "source": [
    "#assignment 4\n",
    "print(\"WE,THE PEOPLE OF INDIA,\\n\\thaving solemnly to constitute India into a SOVERRIGN !\\n \\t\\tSOCIALIST,SECULAR,DEMOCRATIC REPUBLIC\\n\\t\\t and to secure to all its citizens \")"
   ]
  },
  {
   "cell_type": "code",
   "execution_count": null,
   "metadata": {},
   "outputs": [],
   "source": []
  }
 ],
 "metadata": {
  "kernelspec": {
   "display_name": "Python 3",
   "language": "python",
   "name": "python3"
  },
  "language_info": {
   "codemirror_mode": {
    "name": "ipython",
    "version": 3
   },
   "file_extension": ".py",
   "mimetype": "text/x-python",
   "name": "python",
   "nbconvert_exporter": "python",
   "pygments_lexer": "ipython3",
   "version": "3.6.4"
  }
 },
 "nbformat": 4,
 "nbformat_minor": 2
}
